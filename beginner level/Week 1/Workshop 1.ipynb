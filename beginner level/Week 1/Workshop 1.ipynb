{
 "cells": [
  {
   "cell_type": "markdown",
   "id": "40cb8646",
   "metadata": {},
   "source": [
    "<center><h1>bogaziciAI Fall 2023 Week 1</h1></center>\n",
    "<center><h2>Assignment 1</h2></center>"
   ]
  },
  {
   "cell_type": "markdown",
   "id": "e2f25a9d",
   "metadata": {},
   "source": [
    "<center><h3>Grading Table</h3></center>"
   ]
  },
  {
   "cell_type": "markdown",
   "id": "0db49ba8",
   "metadata": {},
   "source": [
    "|             | Part 1 | Part 2      | Part 3 | General Otline      | Total |\n",
    "| ----------- | ----------- | ----------- | ----------- | ----------- | ----------- |\n",
    "| **Points**      | 30     | 30          | 30     | 10                  | 100   |"
   ]
  },
  {
   "cell_type": "code",
   "execution_count": 2,
   "id": "8ba3f3b7",
   "metadata": {},
   "outputs": [],
   "source": [
    "import warnings\n",
    "warnings.filterwarnings('ignore')\n",
    "\n",
    "# fundamental modules\n",
    "import numpy as np\n",
    "import pandas as pd\n",
    "\n",
    "# sklearn\n",
    "from sklearn.preprocessing import PolynomialFeatures\n",
    "from sklearn.linear_model import LinearRegression\n",
    "from sklearn.model_selection import train_test_split\n",
    "from sklearn.preprocessing import StandardScaler\n",
    "\n",
    "# you can use for visualization\n",
    "import seaborn as sns\n",
    "import matplotlib.pyplot as plt\n",
    "\n",
    "# you can import any additional module you like"
   ]
  },
  {
   "cell_type": "code",
   "execution_count": 3,
   "id": "0b60f3ce",
   "metadata": {},
   "outputs": [
    {
     "data": {
      "text/html": [
       "<div>\n",
       "<style scoped>\n",
       "    .dataframe tbody tr th:only-of-type {\n",
       "        vertical-align: middle;\n",
       "    }\n",
       "\n",
       "    .dataframe tbody tr th {\n",
       "        vertical-align: top;\n",
       "    }\n",
       "\n",
       "    .dataframe thead th {\n",
       "        text-align: right;\n",
       "    }\n",
       "</style>\n",
       "<table border=\"1\" class=\"dataframe\">\n",
       "  <thead>\n",
       "    <tr style=\"text-align: right;\">\n",
       "      <th></th>\n",
       "      <th>No</th>\n",
       "      <th>transactiondate</th>\n",
       "      <th>houseage</th>\n",
       "      <th>distancetostation</th>\n",
       "      <th>numberofstores</th>\n",
       "      <th>latitude</th>\n",
       "      <th>longitude</th>\n",
       "      <th>housepriceofunitarea</th>\n",
       "    </tr>\n",
       "  </thead>\n",
       "  <tbody>\n",
       "    <tr>\n",
       "      <th>0</th>\n",
       "      <td>1</td>\n",
       "      <td>2012.917</td>\n",
       "      <td>32.0</td>\n",
       "      <td>84.87882</td>\n",
       "      <td>10</td>\n",
       "      <td>24.98298</td>\n",
       "      <td>121.54024</td>\n",
       "      <td>37.9</td>\n",
       "    </tr>\n",
       "    <tr>\n",
       "      <th>1</th>\n",
       "      <td>2</td>\n",
       "      <td>2012.917</td>\n",
       "      <td>19.5</td>\n",
       "      <td>306.59470</td>\n",
       "      <td>9</td>\n",
       "      <td>24.98034</td>\n",
       "      <td>121.53951</td>\n",
       "      <td>42.2</td>\n",
       "    </tr>\n",
       "    <tr>\n",
       "      <th>2</th>\n",
       "      <td>3</td>\n",
       "      <td>2013.583</td>\n",
       "      <td>13.3</td>\n",
       "      <td>561.98450</td>\n",
       "      <td>5</td>\n",
       "      <td>24.98746</td>\n",
       "      <td>121.54391</td>\n",
       "      <td>47.3</td>\n",
       "    </tr>\n",
       "    <tr>\n",
       "      <th>3</th>\n",
       "      <td>4</td>\n",
       "      <td>2013.500</td>\n",
       "      <td>13.3</td>\n",
       "      <td>561.98450</td>\n",
       "      <td>5</td>\n",
       "      <td>24.98746</td>\n",
       "      <td>121.54391</td>\n",
       "      <td>54.8</td>\n",
       "    </tr>\n",
       "    <tr>\n",
       "      <th>4</th>\n",
       "      <td>5</td>\n",
       "      <td>2012.833</td>\n",
       "      <td>5.0</td>\n",
       "      <td>390.56840</td>\n",
       "      <td>5</td>\n",
       "      <td>24.97937</td>\n",
       "      <td>121.54245</td>\n",
       "      <td>43.1</td>\n",
       "    </tr>\n",
       "  </tbody>\n",
       "</table>\n",
       "</div>"
      ],
      "text/plain": [
       "   No  transactiondate  houseage  distancetostation  numberofstores  latitude  \\\n",
       "0   1         2012.917      32.0           84.87882              10  24.98298   \n",
       "1   2         2012.917      19.5          306.59470               9  24.98034   \n",
       "2   3         2013.583      13.3          561.98450               5  24.98746   \n",
       "3   4         2013.500      13.3          561.98450               5  24.98746   \n",
       "4   5         2012.833       5.0          390.56840               5  24.97937   \n",
       "\n",
       "   longitude  housepriceofunitarea  \n",
       "0  121.54024                  37.9  \n",
       "1  121.53951                  42.2  \n",
       "2  121.54391                  47.3  \n",
       "3  121.54391                  54.8  \n",
       "4  121.54245                  43.1  "
      ]
     },
     "execution_count": 3,
     "metadata": {},
     "output_type": "execute_result"
    }
   ],
   "source": [
    "df = pd.read_csv('real_estate.csv')\n",
    "df.head()"
   ]
  },
  {
   "cell_type": "markdown",
   "id": "6721f9ff",
   "metadata": {},
   "source": [
    "# Task\n",
    "\n",
    "In this task, you are expected to:\n",
    "\n",
    "* Part 1: Make a linear regression analysis to predict housepriceofunitarea.\n",
    "* Part 2: Use the normal equation for your linear regression analysis to verify your results.\n",
    "* Part 3: Make a polynomial regression analysis (You can decide on the Nth degree).\n",
    "\n",
    "<br>\n",
    "You can drop the features that you find unnecessary.\n",
    "<br>\n",
    "You can use sklearn module to perform your analysis.\n",
    "<br> \n",
    "It is advised to explore and visualize the dataset first."
   ]
  },
  {
   "cell_type": "markdown",
   "id": "1a5662ba",
   "metadata": {},
   "source": [
    "# Part 1"
   ]
  },
  {
   "cell_type": "code",
   "execution_count": 5,
   "id": "ad5493fe",
   "metadata": {},
   "outputs": [],
   "source": []
  },
  {
   "cell_type": "markdown",
   "id": "00358a91",
   "metadata": {},
   "source": [
    "# Part 2"
   ]
  },
  {
   "cell_type": "code",
   "execution_count": 35,
   "id": "552ad3a1",
   "metadata": {},
   "outputs": [],
   "source": []
  },
  {
   "cell_type": "code",
   "execution_count": null,
   "id": "dab8d54f",
   "metadata": {},
   "outputs": [],
   "source": []
  },
  {
   "cell_type": "markdown",
   "id": "85cb12f5",
   "metadata": {},
   "source": [
    "# Part 3"
   ]
  },
  {
   "cell_type": "code",
   "execution_count": null,
   "id": "a96c5f46",
   "metadata": {},
   "outputs": [],
   "source": []
  },
  {
   "cell_type": "code",
   "execution_count": null,
   "id": "087dd83a",
   "metadata": {},
   "outputs": [],
   "source": []
  }
 ],
 "metadata": {
  "kernelspec": {
   "display_name": "bogaziciai",
   "language": "python",
   "name": "python3"
  },
  "language_info": {
   "codemirror_mode": {
    "name": "ipython",
    "version": 3
   },
   "file_extension": ".py",
   "mimetype": "text/x-python",
   "name": "python",
   "nbconvert_exporter": "python",
   "pygments_lexer": "ipython3",
   "version": "3.8.13 (default, Mar 28 2022, 06:16:26) \n[Clang 12.0.0 ]"
  },
  "vscode": {
   "interpreter": {
    "hash": "5fbcc6426ad4bc9ca214ae1f425bad2736b7e48c4b6085fae84f5872fe3b6788"
   }
  }
 },
 "nbformat": 4,
 "nbformat_minor": 5
}
